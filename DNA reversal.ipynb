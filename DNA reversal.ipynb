{
  "nbformat": 4,
  "nbformat_minor": 0,
  "metadata": {
    "colab": {
      "name": "Final Program 2.ipynb",
      "provenance": []
    },
    "kernelspec": {
      "name": "python3",
      "display_name": "Python 3"
    },
    "language_info": {
      "name": "python"
    }
  },
  "cells": [
    {
      "cell_type": "code",
      "metadata": {
        "colab": {
          "base_uri": "https://localhost:8080/"
        },
        "id": "wP8j_09rXRqJ",
        "outputId": "cc573fff-92f7-45e8-ae73-293a2912cec5"
      },
      "source": [
        "DNA_sequence = (input('Enter a DNA sequence: '))\n",
        "marker = (input('Enter the pattern: '))\n",
        "revMarker = marker[::-1]\n",
        "\n",
        "\n",
        "\n",
        "startOfMarker = DNA_sequence.find(marker)\n",
        "prefix = DNA_sequence[0:startOfMarker]\n",
        "\n",
        "startofRevMarker = DNA_sequence.find(revMarker,(len(marker)+len(prefix)), len(DNA_sequence))\n",
        "\n",
        "print('Prefix:',prefix)\n",
        "print('Marker:',marker)\n",
        "\n",
        "\n",
        "\n",
        "if DNA_sequence[(len(marker)+len(prefix)):(len(marker)+len(prefix)+len(revMarker))] == revMarker:\n",
        "  middle = DNA_sequence[(len(marker)+len(prefix)):startofRevMarker]\n",
        "  print('Middle:',middle)\n",
        "  revMiddle = middle[::-1]\n",
        "  print('Reversed Middle:',revMiddle)\n",
        "  print('Reversed Marker:',revMarker)\n",
        "  calc = len(DNA_sequence)-(len(prefix)+len(marker)+len(middle)+len(revMarker))\n",
        "  if calc == 0:\n",
        "    suffix = ''\n",
        "  else:\n",
        "    suffix = DNA_sequence[-calc:]\n",
        "  print('Suffix:',suffix)\n",
        "  print('Result:',DNA_sequence)\n",
        "else:\n",
        "  middle = DNA_sequence[(len(marker)+len(prefix)):startofRevMarker]\n",
        "  print('Middle:',middle)\n",
        "  revMiddle = middle[::-1]\n",
        "  print('Reversed Middle:',revMiddle)\n",
        "  print('Reversed Marker:',revMarker)\n",
        "\n",
        "  calc = len(DNA_sequence)-(len(prefix)+len(marker)+len(middle)+len(revMarker))\n",
        "  if calc == 0:\n",
        "    suffix = ''\n",
        "  else:\n",
        "    suffix = DNA_sequence[-calc:]\n",
        "  print('Suffix:',suffix)\n",
        "  print('Result:',prefix+marker+revMiddle+revMarker+suffix)\n",
        "\n",
        "\n",
        "\n",
        "\n",
        "\n"
      ],
      "execution_count": 67,
      "outputs": [
        {
          "output_type": "stream",
          "name": "stdout",
          "text": [
            "Enter a DNA sequence: CGATTGAACATGTAAGTCCATT\n",
            "Enter the pattern: TGAA\n",
            "Prefix: CGAT\n",
            "Marker: TGAA\n",
            "Middle: CATGT\n",
            "Reversed Middle: TGTAC\n",
            "Reversed Marker: AAGT\n",
            "Suffix: CCATT\n",
            "Result: CGATTGAATGTACAAGTCCATT\n"
          ]
        }
      ]
    },
    {
      "cell_type": "code",
      "metadata": {
        "id": "LcetL0rjKf9q"
      },
      "source": [
        ""
      ],
      "execution_count": null,
      "outputs": []
    }
  ]
}